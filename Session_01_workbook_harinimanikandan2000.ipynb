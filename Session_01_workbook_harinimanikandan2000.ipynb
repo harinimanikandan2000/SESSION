{
  "nbformat": 4,
  "nbformat_minor": 0,
  "metadata": {
    "colab": {
      "name": "Session_01_workbook.harinimanikandan2000.ipynb",
      "provenance": [],
      "collapsed_sections": []
    },
    "kernelspec": {
      "name": "python3",
      "display_name": "Python 3"
    },
    "language_info": {
      "name": "python"
    }
  },
  "cells": [
    {
      "cell_type": "markdown",
      "metadata": {
        "id": "Vsr0RuxF8gTt"
      },
      "source": [
        "#Workouts for the ML intro session\n"
      ]
    },
    {
      "cell_type": "markdown",
      "metadata": {
        "id": "VMrfCQbT8t-K"
      },
      "source": [
        "##Complete all the cells and upload the note book to github\n",
        "\n",
        "**Kindly use your own explanations and examples. you refer the internet but try to explain things with your own words and examples**\n"
      ]
    },
    {
      "cell_type": "markdown",
      "metadata": {
        "id": "4TiM_moD8-V_"
      },
      "source": [
        "\n",
        "\n",
        "1.  Will machine overtake humans in near future ? if yes explain why ? if not explain what prevents machines to learn/perform at human level ?\n",
        "\n",
        "Possibly, There are many chances that machines will overtake humans in near future because as technologies develops human tend to use more of it and become addicted to it.Humans couldnt live without it as it makes their life easier.But this could be controlled by the humans as well.They must understand the purpose of technologies and use it wisely and have consious that any technologies should provide no harm to the world and  to human race.\n",
        "\n",
        "\n",
        "\n",
        "\n"
      ]
    },
    {
      "cell_type": "markdown",
      "metadata": {
        "id": "0H8JYhSG9768"
      },
      "source": [
        ""
      ]
    },
    {
      "cell_type": "markdown",
      "metadata": {
        "id": "W9aIe-Pl9uED"
      },
      "source": [
        "2. What recent development you think is very important or inspiring in machine learning/AI field ? just few words on any one or two\n",
        "\n",
        "AI robots in development have immense value in the future.Their adaptable nature and automated system will be a drastic change in the field of technology.They are everywhere from chatbot to humanoid sophia.This shows their drastic development in AI stream."
      ]
    },
    {
      "cell_type": "markdown",
      "metadata": {
        "id": "XcQoFPwg-ChB"
      },
      "source": [
        "3. What is the differnce between regular programming or machine learning ?\n",
        "\n",
        "In regular programming the programmer must provide the input and rules that is needed to get the output whereas in ML datas are given and algorithms automatically computes the rules and builds a model according to the data provided"
      ]
    },
    {
      "cell_type": "markdown",
      "metadata": {
        "id": "gJXmTK0r-Ydb"
      },
      "source": [
        "4. What is model is machine learning ?\n",
        "\n",
        "ML is a subset of Artificial Intelligence .It is making the system work without explicitly programmed.It improves automaticcaly through experience and with the use of data.The output of ML is its model"
      ]
    },
    {
      "cell_type": "markdown",
      "metadata": {
        "id": "XGuClocF-dRX"
      },
      "source": [
        "5. how/where machine learning stores its learning ? \n",
        "\n",
        "ML stores its learning in parameters.It can be updated in the process of training and lead to a development of model."
      ]
    },
    {
      "cell_type": "markdown",
      "metadata": {
        "id": "SFVwc5jC-oDE"
      },
      "source": [
        "6. What is training ?\n",
        "\n",
        "Training is a process of providing datasset and making ML algorithm uses it so as to learn from the given data.The dataset have a combination of inputs and outputs needed."
      ]
    },
    {
      "cell_type": "markdown",
      "metadata": {
        "id": "BDx5DiJ4-ro_"
      },
      "source": [
        "7. what is reinforcement learning ?\n",
        "\n",
        "Reinforcemnet is a part of Machine learning.It shows how it interact with the environment to provide maximum perfomance.It also have sustainable long term changes."
      ]
    },
    {
      "cell_type": "markdown",
      "metadata": {
        "id": "hYk7xK_Z-9dN"
      },
      "source": [
        "8. Give use cases for classification, clustering and regression ?\n",
        "\n"
      ]
    },
    {
      "cell_type": "markdown",
      "metadata": {
        "id": "k0YwsEGa_baZ"
      },
      "source": [
        "9. What is dimension ? will more dimension be helpful to improve a machine learning model ? \n",
        "\n",
        "Dimension is considered as the cordinates used to represent any point within it.No many dimensions will make the model more complex and difficult to build.It is also increase the noise."
      ]
    },
    {
      "cell_type": "markdown",
      "metadata": {
        "id": "-od_1BPK_ktN"
      },
      "source": [
        "10. what is hypothetical space ? explain with an example\n",
        "\n",
        "It is a set of legal hypothesis.It will determine best dataset which describes the target functions or output."
      ]
    }
  ]
}